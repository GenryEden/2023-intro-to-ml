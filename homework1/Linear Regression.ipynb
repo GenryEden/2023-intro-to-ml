{
 "cells": [
  {
   "cell_type": "markdown",
   "id": "aa66fff7-ed89-413f-935e-7e36602c36b3",
   "metadata": {
    "tags": []
   },
   "source": [
    "# Введение в машинное обучение для Java-разработчиков\n",
    "### Практическое задание 1. Линейная регрессия\n",
    "### Дата выдачи: 18.10.2023\n",
    "\n",
    "### Дедлайн: 23:59MSK 01.11.2023\n",
    "\n",
    "## О задании\n",
    "В этом задании мы попытаемся разобраться в механизме линейной регрессии. \n",
    "\n",
    "## Оценивание и штрафы\n",
    "Каждая из задач (помечены тегом [task]) имеет определенное количество баллов (указана в скобках около задачи). Максимально допустимая оценка за работу — 16 баллов. \n",
    "\n",
    "- от 4 до 9 баллов - оценка \"3\"\n",
    "- от 10 до 16 баллов - оценка \"4\"\n",
    "- 17 баллов - оценка \"5\"\n",
    "\n",
    "Задание выполняется самостоятельно. «Похожие» решения считаются плагиатом и все задействованные студенты (в том числе те, у кого списали) не могут получить за него больше 0 баллов, что автоматически ведет к несдаче курса. Если вы нашли решение какого-то из заданий (или его часть) в открытом источнике, необходимо указать ссылку на этот источник в комментариях. \n",
    "В данном задании есть необязательные бонусные задания, выполнение которых добавляет баллы в карму :)\n",
    "\n",
    "## Формат сдачи\n",
    "Задания сдаются путем форка основного репозитория, коммита решения в мастер-ветку вашего форка и оповещении преподавателя о выполнении ДЗ. \n",
    "\n",
    "Для удобства проверки самостоятельно посчитайте свою максимальную оценку (исходя из набора решенных задач) и укажите ниже.\n",
    "\n",
    "[[Укажите количество набранных баллов]]"
   ]
  },
  {
   "cell_type": "markdown",
   "id": "a88f1f24-5e44-49d2-b267-af64faea18bb",
   "metadata": {
    "tags": []
   },
   "source": [
    "## Часть 1. Одномерная линейная регрессия\n",
    "\n",
    "Замечание: мы будем реализовывать линейную регрессию, при условии, что свободный коэффициент равен нулю"
   ]
  },
  {
   "cell_type": "code",
   "execution_count": null,
   "id": "4a06a8a5-ef08-4897-b3a8-c0f5889fbd78",
   "metadata": {
    "tags": []
   },
   "outputs": [],
   "source": [
    "import numpy as np\n",
    "import pandas as pd\n",
    "import seaborn as sns\n",
    "import matplotlib.pyplot as plt\n",
    "\n",
    "%matplotlib inline\n",
    "plt.style.use('seaborn') \n",
    "sns.set('notebook', font_scale=1.25, style='whitegrid')"
   ]
  },
  {
   "cell_type": "markdown",
   "id": "16bbd4ba-ba53-4d82-8d87-1e7da727e700",
   "metadata": {},
   "source": [
    "### [task] Прокомментируйте каждую строчку кода в функции create_dataset (1 балл)"
   ]
  },
  {
   "cell_type": "code",
   "execution_count": null,
   "id": "adcf5964-caf0-4ad8-8582-2bfee5426b40",
   "metadata": {},
   "outputs": [],
   "source": [
    "def create_dataset(n, slope, noise_stddev, random_state=0):\n",
    "    random_state = np.random.RandomState(int(random_state))\n",
    "    x_n = np.linspace(-2, 2, n)\n",
    "    y_n = slope * x_n + random_state.randn(n) * noise_stddev\n",
    "    return x_n, y_n"
   ]
  },
  {
   "cell_type": "code",
   "execution_count": null,
   "id": "3ef79546-ba94-4150-8b06-5e7e916e082c",
   "metadata": {},
   "outputs": [],
   "source": [
    "x, y = create_dataset(n=50, slope=1.234, noise_stddev=0.3)\n",
    "\n",
    "fig, ax = plt.subplots(nrows=1, ncols=1, figsize=(5,5))\n",
    "plt.plot(x, y, 'k.');\n",
    "plt.xlabel('x');\n",
    "plt.ylabel('y');"
   ]
  },
  {
   "cell_type": "markdown",
   "id": "293f6d2f-9e7c-44e9-9f08-1d9823f66ab0",
   "metadata": {},
   "source": [
    "### [task] Реализуйте функции расчета результата 1-мерной линейной модели и MSE (1 балл за каждую фунцкию)"
   ]
  },
  {
   "cell_type": "code",
   "execution_count": null,
   "id": "28ce04f7-d2f7-4b08-8f40-cd767b238897",
   "metadata": {},
   "outputs": [],
   "source": [
    "def predict_1d(x, w):\n",
    "    pass # TODO:\n",
    "\n",
    "def calc_mean_squared_error(yhat_N, y_N):\n",
    "    pass # TODO:"
   ]
  },
  {
   "cell_type": "code",
   "execution_count": null,
   "id": "b4ddef85",
   "metadata": {},
   "outputs": [],
   "source": [
    "G = 30\n",
    "w_candidates_G = np.linspace(-3, 6, G)\n",
    "error_G = np.zeros(G)\n",
    "for i, w in enumerate(w_candidates_G):\n",
    "    yhat_N = predict_1d(x, w)\n",
    "    error_G[i] = calc_mean_squared_error(yhat_N, y)\n",
    "plt.plot(w_candidates_G, error_G, label='objective function');\n",
    "plt.xlabel('w');\n",
    "plt.ylabel('Mean squared error');\n",
    "plt.legend()"
   ]
  },
  {
   "cell_type": "markdown",
   "id": "53cc558f-a66c-489a-97f0-3c890bdc76df",
   "metadata": {},
   "source": [
    "### [task] Найдите методом пристального взгляда по графику из прошлого пункта оптимальное значение параметра w и подставьте найденное значение в переменную w (1 балл)"
   ]
  },
  {
   "cell_type": "code",
   "execution_count": null,
   "id": "2174c7da",
   "metadata": {},
   "outputs": [],
   "source": [
    "w = None # Fix me \n",
    "\n",
    "fig, ax = plt.subplots(nrows=1, ncols=1, figsize=(5,5))\n",
    "plt.plot(x, y, 'k.');\n",
    "plt.plot([predict_1d(-2,w), predict_1d(2,w)], [-2,2])\n",
    "plt.xlabel('x');\n",
    "plt.ylabel('y');"
   ]
  },
  {
   "cell_type": "markdown",
   "id": "44753b21-62ac-4d3e-80b7-8cedb37c418f",
   "metadata": {},
   "source": [
    "### [task] Что происходит с линейной моделью, когда меняется параметр w (1 балл)?"
   ]
  },
  {
   "cell_type": "markdown",
   "id": "b4284bf5-ec1d-40fc-90f5-6cc3df197df3",
   "metadata": {},
   "source": [
    "## Часть 2. Градиентный спуск"
   ]
  },
  {
   "cell_type": "markdown",
   "id": "2f5b6298-a5fd-45e5-869b-27b8c458142e",
   "metadata": {},
   "source": [
    "### [task] Реализуйте функцию потерь RSS (1 балл)"
   ]
  },
  {
   "cell_type": "code",
   "execution_count": null,
   "id": "489c2896",
   "metadata": {},
   "outputs": [],
   "source": [
    "def calc_loss(x, y, w):\n",
    "    pass "
   ]
  },
  {
   "cell_type": "markdown",
   "id": "20bb00e9-ddc6-4971-a406-6682aa85218c",
   "metadata": {},
   "source": [
    "### [task] Реализуйте функцию расчета градиента (2 балл)\n",
    "\n",
    "hint: Продифференцируйте функцию потерь RSS"
   ]
  },
  {
   "cell_type": "code",
   "execution_count": null,
   "id": "1e068c4a",
   "metadata": {},
   "outputs": [],
   "source": [
    "def calc_grad(x, y, w):\n",
    "    pass"
   ]
  },
  {
   "cell_type": "markdown",
   "id": "b6276438-4c91-42f1-baa4-21d7cc7346aa",
   "metadata": {},
   "source": [
    "### [task] Допишите код для обновления весов (2 балла)"
   ]
  },
  {
   "cell_type": "code",
   "execution_count": null,
   "id": "5e0f2942",
   "metadata": {},
   "outputs": [],
   "source": [
    "def minimize_via_grad_descent(calc_loss, calc_grad, init_w=0.0, step_size=0.001, max_iters=20):\n",
    "    w = init_w \n",
    "    grad = calc_grad(x, y, w)\n",
    "    for iter_id in range(max_iters):\n",
    "        # hint: Вспомните, что означает градиент\n",
    "        # Your code here\n",
    "        print(f\"Loss = {loss}, grad = {grad}, w = {w}\") \n",
    "    wopt = w    \n",
    "    return wopt"
   ]
  },
  {
   "cell_type": "code",
   "execution_count": null,
   "id": "158f30a9-c64e-4809-a6c4-3b463e183b05",
   "metadata": {},
   "outputs": [],
   "source": [
    "wopt = minimize_via_grad_descent(calc_loss, calc_grad, step_size=0.001, max_iters=50);"
   ]
  },
  {
   "cell_type": "code",
   "execution_count": null,
   "id": "ccdc9195-216b-4cf9-b923-0fe458facc0f",
   "metadata": {},
   "outputs": [],
   "source": [
    "w = wopt\n",
    "fig, ax = plt.subplots(nrows=1, ncols=1, figsize=(5,5))\n",
    "plt.plot(x, y, 'k.');\n",
    "plt.plot([predict_1d(-2,w), predict_1d(2,w)], [-2,2])\n",
    "plt.xlabel('x');\n",
    "plt.ylabel('y');"
   ]
  },
  {
   "cell_type": "markdown",
   "id": "01a9362d-d74a-4f64-a135-d81fc74bc5e5",
   "metadata": {},
   "source": [
    "### [task] Что будет если сделать слишком маленький шаг или слишком большой (1 балл)\n",
    "hint: Попробуйте увеличить число итераций"
   ]
  },
  {
   "cell_type": "markdown",
   "id": "f74461bb-eb4b-4191-ae16-7aa95f7ebd5c",
   "metadata": {},
   "source": [
    "## Часть 3. \n",
    "\n",
    "В данной части мы будем учиться использовать готовую реализацию линейной регрессии из библиотеки scikit-learn на небольшой, но реальной задаче из медицины. Обязательно изучите описание датасета (признаки и целевая переменная)."
   ]
  },
  {
   "cell_type": "code",
   "execution_count": null,
   "id": "8a679d95-90af-416a-9149-eb4ee573c7f6",
   "metadata": {},
   "outputs": [],
   "source": [
    "from sklearn.datasets import load_diabetes\n",
    "from sklearn.linear_model import SGDRegressor\n",
    "from sklearn.model_selection import train_test_split\n",
    "from sklearn.metrics import mean_squared_error\n",
    "\n",
    "diabetes = load_diabetes(as_frame=True)\n",
    "data = diabetes[\"frame\"]\n",
    "print(diabetes[\"DESCR\"])"
   ]
  },
  {
   "cell_type": "code",
   "execution_count": null,
   "id": "f8fb3001-0578-4842-bff0-33b7c4572c0b",
   "metadata": {},
   "outputs": [],
   "source": [
    "X = data.drop(labels='target', axis=1) \n",
    "y = data['target']"
   ]
  },
  {
   "cell_type": "code",
   "execution_count": null,
   "id": "ce03c443-683b-4805-9bb7-2d430d3371ba",
   "metadata": {},
   "outputs": [],
   "source": [
    "X_train, X_test, y_train, y_test = train_test_split(X,y,test_size=0.25,random_state=42)\n",
    "print(X_train.shape)\n",
    "print(X_test.shape)\n",
    "print(y_train.shape)\n",
    "print(y_test.shape)"
   ]
  },
  {
   "cell_type": "markdown",
   "id": "78467376-8e4c-43bb-9399-811f663b9bc4",
   "metadata": {},
   "source": [
    "### [task] Напишите код для обучения модели и предсказания модели на тестовой выборке (2 балла)\n",
    "Чтобы выполнить задание, воспользуйтесь документацией для класса SGDRegressor"
   ]
  },
  {
   "cell_type": "code",
   "execution_count": null,
   "id": "d7169630-0267-4707-ada8-51051963f1e0",
   "metadata": {},
   "outputs": [],
   "source": [
    "model = SGDRegressor()\n",
    "# your code here\n",
    "#\n",
    "#\n",
    "mse = mean_squared_error(y_test, y_pred)\n",
    "print(f\"Mean Squared Error (MSE): {mse}\")"
   ]
  },
  {
   "cell_type": "markdown",
   "id": "bcf21832-2d12-4c78-84bc-8e9aeeee7477",
   "metadata": {},
   "source": [
    "### [task] Попробуйте улучшить результат за счет изменения гиперпараметров линейной модели (2 балла)"
   ]
  },
  {
   "cell_type": "code",
   "execution_count": null,
   "id": "43a11eab-d419-4a45-a831-90d2ece4a764",
   "metadata": {},
   "outputs": [],
   "source": [
    "# your code here\n",
    "#\n",
    "#"
   ]
  },
  {
   "cell_type": "markdown",
   "id": "27d6bea2-a610-4af1-82fc-da6f251fcd4e",
   "metadata": {
    "tags": []
   },
   "source": [
    "### Какие признаки больше всего влияют на целевую переменную? Выберите 3 признака. (2 балла)\n",
    "hint: посмотрите на полученные веса модели"
   ]
  },
  {
   "cell_type": "code",
   "execution_count": null,
   "id": "948990cc-04f7-4ff7-9aeb-0de0045c6160",
   "metadata": {},
   "outputs": [],
   "source": [
    "# your code here\n",
    "#\n",
    "#"
   ]
  },
  {
   "cell_type": "markdown",
   "id": "fc6820af-49f8-4791-8e34-36de4892ac07",
   "metadata": {},
   "source": [
    "# Бонусные вопросы:\n",
    "- Если вы нашли признаки, которые наибольшим образом влияют на модель, проверьте согласуется ли это с медициной в реальности ?\n",
    "- Есть ли какие-то проблемы в текущей схеме обучения и валидации модели? \n",
    "\n",
    "Ответы пишите в ячейке ниже"
   ]
  },
  {
   "cell_type": "code",
   "execution_count": null,
   "id": "eebd17f3-c05b-4165-bfb5-f56f0414f241",
   "metadata": {},
   "outputs": [],
   "source": [
    "#"
   ]
  }
 ],
 "metadata": {
  "kernelspec": {
   "display_name": "Python 3",
   "language": "python",
   "name": "python3"
  },
  "language_info": {
   "codemirror_mode": {
    "name": "ipython",
    "version": 3
   },
   "file_extension": ".py",
   "mimetype": "text/x-python",
   "name": "python",
   "nbconvert_exporter": "python",
   "pygments_lexer": "ipython3",
   "version": "3.8.18"
  }
 },
 "nbformat": 4,
 "nbformat_minor": 5
}
