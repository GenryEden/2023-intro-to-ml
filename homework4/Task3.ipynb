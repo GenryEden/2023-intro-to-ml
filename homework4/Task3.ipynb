{
 "cells": [
  {
   "cell_type": "code",
   "execution_count": 1,
   "id": "22b1f15e-c602-4f72-b778-fd6329de4d62",
   "metadata": {},
   "outputs": [],
   "source": [
    "import numpy as np\n",
    "import scipy"
   ]
  },
  {
   "cell_type": "code",
   "execution_count": 47,
   "id": "40b64b4a-434a-4a62-a2af-b3248e718936",
   "metadata": {},
   "outputs": [],
   "source": [
    "def getS(x):\n",
    "    if len(x) == 1:\n",
    "        return 0\n",
    "    return sum((x - x.mean())**2) / (len(x) - 1)\n",
    "\n",
    "def student_statistic(x1, x2):\n",
    "    return (x1.mean() - x2.mean()) / np.sqrt(\n",
    "        getS(x1) / len(x1) + getS(x2) / len(x2)\n",
    "    )\n",
    "\n",
    "def student_criterion(x1, x2, p=0.95):\n",
    "    return student_statistic(x1, x2) < \\\n",
    "        scipy.stats.t.ppf(p, max(len(x1), len(x2)))\n",
    "                                                                                 "
   ]
  },
  {
   "cell_type": "code",
   "execution_count": 48,
   "id": "8db75b2c-0815-4392-9087-6a467e5ce925",
   "metadata": {},
   "outputs": [],
   "source": [
    "dist1 = np.random.normal(\n",
    "    (np.random.random() - 0.5) * 100,\n",
    "    np.random.random() * 10,\n",
    "    100\n",
    ")\n",
    "\n",
    "dist2 = np.random.normal(\n",
    "    (np.random.random() - 0.5) * 100,\n",
    "    np.random.random() * 10,\n",
    "    100\n",
    ")\n"
   ]
  },
  {
   "cell_type": "code",
   "execution_count": 49,
   "id": "3272d930-b4fe-4e50-b472-62dc6168dbd5",
   "metadata": {},
   "outputs": [
    {
     "data": {
      "text/plain": [
       "True"
      ]
     },
     "execution_count": 49,
     "metadata": {},
     "output_type": "execute_result"
    }
   ],
   "source": [
    "student_criterion(dist1, dist2)"
   ]
  },
  {
   "cell_type": "code",
   "execution_count": 61,
   "id": "8ddde08b-63a0-41e4-ab33-8bc29373c2c5",
   "metadata": {},
   "outputs": [
    {
     "data": {
      "text/plain": [
       "0.04993"
      ]
     },
     "execution_count": 61,
     "metadata": {},
     "output_type": "execute_result"
    }
   ],
   "source": [
    "mistakes = 0\n",
    "iterations = 100000\n",
    "for _ in range(iterations):\n",
    "    mean = (np.random.random() - 0.5) * 100\n",
    "    scale = np.random.random() * 10\n",
    "\n",
    "    dist1 = np.random.normal(mean, scale, 1000)\n",
    "    dist2 = np.random.normal(mean, scale, 1000)\n",
    "    if not student_criterion(dist1, dist2):\n",
    "        mistakes += 1\n",
    "\n",
    "mistakes/iterations"
   ]
  },
  {
   "cell_type": "code",
   "execution_count": 35,
   "id": "e6591d40-ba8b-4298-bd8b-bed6ff512381",
   "metadata": {},
   "outputs": [
    {
     "data": {
      "text/plain": [
       "1"
      ]
     },
     "execution_count": 35,
     "metadata": {},
     "output_type": "execute_result"
    }
   ],
   "source": [
    "len(np.array([1]))"
   ]
  },
  {
   "cell_type": "code",
   "execution_count": null,
   "id": "6681f03f-8d63-4732-9086-4e9e5d4c8ce7",
   "metadata": {},
   "outputs": [],
   "source": []
  }
 ],
 "metadata": {
  "kernelspec": {
   "display_name": "Python 3 (ipykernel)",
   "language": "python",
   "name": "python3"
  },
  "language_info": {
   "codemirror_mode": {
    "name": "ipython",
    "version": 3
   },
   "file_extension": ".py",
   "mimetype": "text/x-python",
   "name": "python",
   "nbconvert_exporter": "python",
   "pygments_lexer": "ipython3",
   "version": "3.11.5"
  }
 },
 "nbformat": 4,
 "nbformat_minor": 5
}
